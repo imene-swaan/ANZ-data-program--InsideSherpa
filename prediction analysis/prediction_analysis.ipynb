{
 "cells": [
  {
   "cell_type": "markdown",
   "metadata": {},
   "source": [
    "# Project: ANZ synthesised transaction Dataset\n",
    "## by Imene KOLLI"
   ]
  },
  {
   "cell_type": "markdown",
   "metadata": {},
   "source": [
    "<a id='intro'></a>\n",
    "## Introduction\n",
    "\n",
    "> This task is based on a synthesised transaction dataset containing 3 months’ worth of transactions for 100 hypothetical customers. It contains purchases, recurring transactions, and salary transactions.\n",
    "The dataset is designed to simulate realistic transaction behaviours that are observed in ANZ’s real transaction data, so many of the insights you can gather from the tasks below will be genuine."
   ]
  },
  {
   "cell_type": "code",
   "execution_count": 19,
   "metadata": {},
   "outputs": [],
   "source": [
    "import pandas as pd\n",
    "import numpy as np\n",
    "import matplotlib.pyplot as plt\n",
    "import seaborn as sns\n",
    "%matplotlib inline"
   ]
  },
  {
   "cell_type": "code",
   "execution_count": 20,
   "metadata": {},
   "outputs": [
    {
     "data": {
      "text/html": [
       "<div>\n",
       "<style scoped>\n",
       "    .dataframe tbody tr th:only-of-type {\n",
       "        vertical-align: middle;\n",
       "    }\n",
       "\n",
       "    .dataframe tbody tr th {\n",
       "        vertical-align: top;\n",
       "    }\n",
       "\n",
       "    .dataframe thead th {\n",
       "        text-align: right;\n",
       "    }\n",
       "</style>\n",
       "<table border=\"1\" class=\"dataframe\">\n",
       "  <thead>\n",
       "    <tr style=\"text-align: right;\">\n",
       "      <th></th>\n",
       "      <th>status</th>\n",
       "      <th>card_present_flag</th>\n",
       "      <th>txn_description</th>\n",
       "      <th>balance</th>\n",
       "      <th>date</th>\n",
       "      <th>gender</th>\n",
       "      <th>age</th>\n",
       "      <th>merchant_state</th>\n",
       "      <th>extraction</th>\n",
       "      <th>amount</th>\n",
       "      <th>customer_id</th>\n",
       "      <th>movement</th>\n",
       "      <th>day</th>\n",
       "      <th>month</th>\n",
       "    </tr>\n",
       "  </thead>\n",
       "  <tbody>\n",
       "    <tr>\n",
       "      <th>0</th>\n",
       "      <td>authorized</td>\n",
       "      <td>1.0</td>\n",
       "      <td>POS</td>\n",
       "      <td>35.39</td>\n",
       "      <td>2018-08-01</td>\n",
       "      <td>F</td>\n",
       "      <td>26</td>\n",
       "      <td>QLD</td>\n",
       "      <td>2018-08-01 01:01:15+00:00</td>\n",
       "      <td>16.25</td>\n",
       "      <td>CUS-2487424745</td>\n",
       "      <td>debit</td>\n",
       "      <td>Wednesday</td>\n",
       "      <td>August</td>\n",
       "    </tr>\n",
       "    <tr>\n",
       "      <th>1</th>\n",
       "      <td>authorized</td>\n",
       "      <td>0.0</td>\n",
       "      <td>SALES-POS</td>\n",
       "      <td>21.20</td>\n",
       "      <td>2018-08-01</td>\n",
       "      <td>F</td>\n",
       "      <td>26</td>\n",
       "      <td>NSW</td>\n",
       "      <td>2018-08-01 01:13:45+00:00</td>\n",
       "      <td>14.19</td>\n",
       "      <td>CUS-2487424745</td>\n",
       "      <td>debit</td>\n",
       "      <td>Wednesday</td>\n",
       "      <td>August</td>\n",
       "    </tr>\n",
       "    <tr>\n",
       "      <th>2</th>\n",
       "      <td>authorized</td>\n",
       "      <td>1.0</td>\n",
       "      <td>POS</td>\n",
       "      <td>5.71</td>\n",
       "      <td>2018-08-01</td>\n",
       "      <td>M</td>\n",
       "      <td>38</td>\n",
       "      <td>NSW</td>\n",
       "      <td>2018-08-01 01:26:15+00:00</td>\n",
       "      <td>6.42</td>\n",
       "      <td>CUS-2142601169</td>\n",
       "      <td>debit</td>\n",
       "      <td>Wednesday</td>\n",
       "      <td>August</td>\n",
       "    </tr>\n",
       "    <tr>\n",
       "      <th>3</th>\n",
       "      <td>authorized</td>\n",
       "      <td>1.0</td>\n",
       "      <td>SALES-POS</td>\n",
       "      <td>2117.22</td>\n",
       "      <td>2018-08-01</td>\n",
       "      <td>F</td>\n",
       "      <td>40</td>\n",
       "      <td>QLD</td>\n",
       "      <td>2018-08-01 01:38:45+00:00</td>\n",
       "      <td>40.90</td>\n",
       "      <td>CUS-1614226872</td>\n",
       "      <td>debit</td>\n",
       "      <td>Wednesday</td>\n",
       "      <td>August</td>\n",
       "    </tr>\n",
       "    <tr>\n",
       "      <th>4</th>\n",
       "      <td>authorized</td>\n",
       "      <td>1.0</td>\n",
       "      <td>SALES-POS</td>\n",
       "      <td>17.95</td>\n",
       "      <td>2018-08-01</td>\n",
       "      <td>F</td>\n",
       "      <td>26</td>\n",
       "      <td>QLD</td>\n",
       "      <td>2018-08-01 01:51:15+00:00</td>\n",
       "      <td>3.25</td>\n",
       "      <td>CUS-2487424745</td>\n",
       "      <td>debit</td>\n",
       "      <td>Wednesday</td>\n",
       "      <td>August</td>\n",
       "    </tr>\n",
       "  </tbody>\n",
       "</table>\n",
       "</div>"
      ],
      "text/plain": [
       "       status  card_present_flag txn_description  balance        date gender  \\\n",
       "0  authorized                1.0             POS    35.39  2018-08-01      F   \n",
       "1  authorized                0.0       SALES-POS    21.20  2018-08-01      F   \n",
       "2  authorized                1.0             POS     5.71  2018-08-01      M   \n",
       "3  authorized                1.0       SALES-POS  2117.22  2018-08-01      F   \n",
       "4  authorized                1.0       SALES-POS    17.95  2018-08-01      F   \n",
       "\n",
       "   age merchant_state                 extraction  amount     customer_id  \\\n",
       "0   26            QLD  2018-08-01 01:01:15+00:00   16.25  CUS-2487424745   \n",
       "1   26            NSW  2018-08-01 01:13:45+00:00   14.19  CUS-2487424745   \n",
       "2   38            NSW  2018-08-01 01:26:15+00:00    6.42  CUS-2142601169   \n",
       "3   40            QLD  2018-08-01 01:38:45+00:00   40.90  CUS-1614226872   \n",
       "4   26            QLD  2018-08-01 01:51:15+00:00    3.25  CUS-2487424745   \n",
       "\n",
       "  movement        day   month  \n",
       "0    debit  Wednesday  August  \n",
       "1    debit  Wednesday  August  \n",
       "2    debit  Wednesday  August  \n",
       "3    debit  Wednesday  August  \n",
       "4    debit  Wednesday  August  "
      ]
     },
     "execution_count": 20,
     "metadata": {},
     "output_type": "execute_result"
    }
   ],
   "source": [
    "df = pd.read_csv('ANZ-data.csv')\n",
    "df.head()"
   ]
  },
  {
   "cell_type": "code",
   "execution_count": 21,
   "metadata": {},
   "outputs": [
    {
     "data": {
      "text/plain": [
       "SALES-POS     3934\n",
       "POS           3783\n",
       "PAYMENT       2600\n",
       "PAY/SALARY     883\n",
       "INTER BANK     742\n",
       "PHONE BANK     101\n",
       "Name: txn_description, dtype: int64"
      ]
     },
     "execution_count": 21,
     "metadata": {},
     "output_type": "execute_result"
    }
   ],
   "source": [
    "df.txn_description.value_counts()"
   ]
  },
  {
   "cell_type": "code",
   "execution_count": 4,
   "metadata": {},
   "outputs": [
    {
     "name": "stdout",
     "output_type": "stream",
     "text": [
      "<class 'pandas.core.frame.DataFrame'>\n",
      "Int64Index: 883 entries, 50 to 12004\n",
      "Data columns (total 14 columns):\n",
      " #   Column             Non-Null Count  Dtype  \n",
      "---  ------             --------------  -----  \n",
      " 0   status             883 non-null    object \n",
      " 1   card_present_flag  0 non-null      float64\n",
      " 2   txn_description    883 non-null    object \n",
      " 3   balance            883 non-null    float64\n",
      " 4   date               883 non-null    object \n",
      " 5   gender             883 non-null    object \n",
      " 6   age                883 non-null    int64  \n",
      " 7   merchant_state     0 non-null      object \n",
      " 8   extraction         883 non-null    object \n",
      " 9   amount             883 non-null    float64\n",
      " 10  customer_id        883 non-null    object \n",
      " 11  movement           883 non-null    object \n",
      " 12  day                883 non-null    object \n",
      " 13  month              883 non-null    object \n",
      "dtypes: float64(3), int64(1), object(10)\n",
      "memory usage: 103.5+ KB\n"
     ]
    }
   ],
   "source": [
    "df = df.query('txn_description == \"PAY/SALARY\"')\n",
    "df.info()"
   ]
  },
  {
   "cell_type": "code",
   "execution_count": 5,
   "metadata": {},
   "outputs": [],
   "source": [
    "df.drop(['card_present_flag', 'merchant_state'], axis = 1, inplace = True)"
   ]
  },
  {
   "cell_type": "code",
   "execution_count": 6,
   "metadata": {},
   "outputs": [
    {
     "data": {
      "text/html": [
       "<div>\n",
       "<style scoped>\n",
       "    .dataframe tbody tr th:only-of-type {\n",
       "        vertical-align: middle;\n",
       "    }\n",
       "\n",
       "    .dataframe tbody tr th {\n",
       "        vertical-align: top;\n",
       "    }\n",
       "\n",
       "    .dataframe thead th {\n",
       "        text-align: right;\n",
       "    }\n",
       "</style>\n",
       "<table border=\"1\" class=\"dataframe\">\n",
       "  <thead>\n",
       "    <tr style=\"text-align: right;\">\n",
       "      <th></th>\n",
       "      <th>status</th>\n",
       "      <th>txn_description</th>\n",
       "      <th>balance</th>\n",
       "      <th>date</th>\n",
       "      <th>gender</th>\n",
       "      <th>age</th>\n",
       "      <th>extraction</th>\n",
       "      <th>amount</th>\n",
       "      <th>customer_id</th>\n",
       "      <th>movement</th>\n",
       "      <th>day</th>\n",
       "      <th>month</th>\n",
       "    </tr>\n",
       "  </thead>\n",
       "  <tbody>\n",
       "    <tr>\n",
       "      <th>50</th>\n",
       "      <td>posted</td>\n",
       "      <td>PAY/SALARY</td>\n",
       "      <td>8342.11</td>\n",
       "      <td>2018-08-01</td>\n",
       "      <td>M</td>\n",
       "      <td>23</td>\n",
       "      <td>2018-08-01 11:00:00+00:00</td>\n",
       "      <td>3903.95</td>\n",
       "      <td>CUS-1462656821</td>\n",
       "      <td>credit</td>\n",
       "      <td>Wednesday</td>\n",
       "      <td>August</td>\n",
       "    </tr>\n",
       "    <tr>\n",
       "      <th>61</th>\n",
       "      <td>posted</td>\n",
       "      <td>PAY/SALARY</td>\n",
       "      <td>2040.58</td>\n",
       "      <td>2018-08-01</td>\n",
       "      <td>F</td>\n",
       "      <td>23</td>\n",
       "      <td>2018-08-01 12:00:00+00:00</td>\n",
       "      <td>1626.48</td>\n",
       "      <td>CUS-2500783281</td>\n",
       "      <td>credit</td>\n",
       "      <td>Wednesday</td>\n",
       "      <td>August</td>\n",
       "    </tr>\n",
       "    <tr>\n",
       "      <th>64</th>\n",
       "      <td>posted</td>\n",
       "      <td>PAY/SALARY</td>\n",
       "      <td>3158.51</td>\n",
       "      <td>2018-08-01</td>\n",
       "      <td>M</td>\n",
       "      <td>22</td>\n",
       "      <td>2018-08-01 12:00:00+00:00</td>\n",
       "      <td>983.36</td>\n",
       "      <td>CUS-326006476</td>\n",
       "      <td>credit</td>\n",
       "      <td>Wednesday</td>\n",
       "      <td>August</td>\n",
       "    </tr>\n",
       "    <tr>\n",
       "      <th>68</th>\n",
       "      <td>posted</td>\n",
       "      <td>PAY/SALARY</td>\n",
       "      <td>2517.66</td>\n",
       "      <td>2018-08-01</td>\n",
       "      <td>M</td>\n",
       "      <td>24</td>\n",
       "      <td>2018-08-01 13:00:00+00:00</td>\n",
       "      <td>1408.08</td>\n",
       "      <td>CUS-1433879684</td>\n",
       "      <td>credit</td>\n",
       "      <td>Wednesday</td>\n",
       "      <td>August</td>\n",
       "    </tr>\n",
       "    <tr>\n",
       "      <th>70</th>\n",
       "      <td>posted</td>\n",
       "      <td>PAY/SALARY</td>\n",
       "      <td>2271.79</td>\n",
       "      <td>2018-08-01</td>\n",
       "      <td>F</td>\n",
       "      <td>43</td>\n",
       "      <td>2018-08-01 13:00:00+00:00</td>\n",
       "      <td>1068.04</td>\n",
       "      <td>CUS-4123612273</td>\n",
       "      <td>credit</td>\n",
       "      <td>Wednesday</td>\n",
       "      <td>August</td>\n",
       "    </tr>\n",
       "  </tbody>\n",
       "</table>\n",
       "</div>"
      ],
      "text/plain": [
       "    status txn_description  balance        date gender  age  \\\n",
       "50  posted      PAY/SALARY  8342.11  2018-08-01      M   23   \n",
       "61  posted      PAY/SALARY  2040.58  2018-08-01      F   23   \n",
       "64  posted      PAY/SALARY  3158.51  2018-08-01      M   22   \n",
       "68  posted      PAY/SALARY  2517.66  2018-08-01      M   24   \n",
       "70  posted      PAY/SALARY  2271.79  2018-08-01      F   43   \n",
       "\n",
       "                   extraction   amount     customer_id movement        day  \\\n",
       "50  2018-08-01 11:00:00+00:00  3903.95  CUS-1462656821   credit  Wednesday   \n",
       "61  2018-08-01 12:00:00+00:00  1626.48  CUS-2500783281   credit  Wednesday   \n",
       "64  2018-08-01 12:00:00+00:00   983.36   CUS-326006476   credit  Wednesday   \n",
       "68  2018-08-01 13:00:00+00:00  1408.08  CUS-1433879684   credit  Wednesday   \n",
       "70  2018-08-01 13:00:00+00:00  1068.04  CUS-4123612273   credit  Wednesday   \n",
       "\n",
       "     month  \n",
       "50  August  \n",
       "61  August  \n",
       "64  August  \n",
       "68  August  \n",
       "70  August  "
      ]
     },
     "execution_count": 6,
     "metadata": {},
     "output_type": "execute_result"
    }
   ],
   "source": [
    "df.head()"
   ]
  },
  {
   "cell_type": "code",
   "execution_count": 7,
   "metadata": {},
   "outputs": [
    {
     "data": {
      "text/html": [
       "<div>\n",
       "<style scoped>\n",
       "    .dataframe tbody tr th:only-of-type {\n",
       "        vertical-align: middle;\n",
       "    }\n",
       "\n",
       "    .dataframe tbody tr th {\n",
       "        vertical-align: top;\n",
       "    }\n",
       "\n",
       "    .dataframe thead th {\n",
       "        text-align: right;\n",
       "    }\n",
       "</style>\n",
       "<table border=\"1\" class=\"dataframe\">\n",
       "  <thead>\n",
       "    <tr style=\"text-align: right;\">\n",
       "      <th></th>\n",
       "      <th>status</th>\n",
       "      <th>txn_description</th>\n",
       "      <th>balance</th>\n",
       "      <th>date</th>\n",
       "      <th>gender</th>\n",
       "      <th>age</th>\n",
       "      <th>extraction</th>\n",
       "      <th>amount</th>\n",
       "      <th>customer_id</th>\n",
       "      <th>movement</th>\n",
       "      <th>day</th>\n",
       "      <th>month</th>\n",
       "    </tr>\n",
       "  </thead>\n",
       "  <tbody>\n",
       "    <tr>\n",
       "      <th>count</th>\n",
       "      <td>883</td>\n",
       "      <td>883</td>\n",
       "      <td>883.000000</td>\n",
       "      <td>883</td>\n",
       "      <td>883</td>\n",
       "      <td>883.000000</td>\n",
       "      <td>883</td>\n",
       "      <td>883.000000</td>\n",
       "      <td>883</td>\n",
       "      <td>883</td>\n",
       "      <td>883</td>\n",
       "      <td>883</td>\n",
       "    </tr>\n",
       "    <tr>\n",
       "      <th>unique</th>\n",
       "      <td>1</td>\n",
       "      <td>1</td>\n",
       "      <td>NaN</td>\n",
       "      <td>65</td>\n",
       "      <td>2</td>\n",
       "      <td>NaN</td>\n",
       "      <td>394</td>\n",
       "      <td>NaN</td>\n",
       "      <td>100</td>\n",
       "      <td>1</td>\n",
       "      <td>5</td>\n",
       "      <td>3</td>\n",
       "    </tr>\n",
       "    <tr>\n",
       "      <th>top</th>\n",
       "      <td>posted</td>\n",
       "      <td>PAY/SALARY</td>\n",
       "      <td>NaN</td>\n",
       "      <td>2018-10-15</td>\n",
       "      <td>M</td>\n",
       "      <td>NaN</td>\n",
       "      <td>2018-08-20 13:00:00+00:00</td>\n",
       "      <td>NaN</td>\n",
       "      <td>CUS-2500783281</td>\n",
       "      <td>credit</td>\n",
       "      <td>Monday</td>\n",
       "      <td>October</td>\n",
       "    </tr>\n",
       "    <tr>\n",
       "      <th>freq</th>\n",
       "      <td>883</td>\n",
       "      <td>883</td>\n",
       "      <td>NaN</td>\n",
       "      <td>18</td>\n",
       "      <td>464</td>\n",
       "      <td>NaN</td>\n",
       "      <td>7</td>\n",
       "      <td>NaN</td>\n",
       "      <td>14</td>\n",
       "      <td>883</td>\n",
       "      <td>207</td>\n",
       "      <td>313</td>\n",
       "    </tr>\n",
       "    <tr>\n",
       "      <th>mean</th>\n",
       "      <td>NaN</td>\n",
       "      <td>NaN</td>\n",
       "      <td>16242.859049</td>\n",
       "      <td>NaN</td>\n",
       "      <td>NaN</td>\n",
       "      <td>32.631937</td>\n",
       "      <td>NaN</td>\n",
       "      <td>1898.728029</td>\n",
       "      <td>NaN</td>\n",
       "      <td>NaN</td>\n",
       "      <td>NaN</td>\n",
       "      <td>NaN</td>\n",
       "    </tr>\n",
       "    <tr>\n",
       "      <th>std</th>\n",
       "      <td>NaN</td>\n",
       "      <td>NaN</td>\n",
       "      <td>30953.342656</td>\n",
       "      <td>NaN</td>\n",
       "      <td>NaN</td>\n",
       "      <td>12.276731</td>\n",
       "      <td>NaN</td>\n",
       "      <td>1150.364621</td>\n",
       "      <td>NaN</td>\n",
       "      <td>NaN</td>\n",
       "      <td>NaN</td>\n",
       "      <td>NaN</td>\n",
       "    </tr>\n",
       "    <tr>\n",
       "      <th>min</th>\n",
       "      <td>NaN</td>\n",
       "      <td>NaN</td>\n",
       "      <td>735.660000</td>\n",
       "      <td>NaN</td>\n",
       "      <td>NaN</td>\n",
       "      <td>18.000000</td>\n",
       "      <td>NaN</td>\n",
       "      <td>576.000000</td>\n",
       "      <td>NaN</td>\n",
       "      <td>NaN</td>\n",
       "      <td>NaN</td>\n",
       "      <td>NaN</td>\n",
       "    </tr>\n",
       "    <tr>\n",
       "      <th>25%</th>\n",
       "      <td>NaN</td>\n",
       "      <td>NaN</td>\n",
       "      <td>4309.995000</td>\n",
       "      <td>NaN</td>\n",
       "      <td>NaN</td>\n",
       "      <td>22.000000</td>\n",
       "      <td>NaN</td>\n",
       "      <td>1013.670000</td>\n",
       "      <td>NaN</td>\n",
       "      <td>NaN</td>\n",
       "      <td>NaN</td>\n",
       "      <td>NaN</td>\n",
       "    </tr>\n",
       "    <tr>\n",
       "      <th>50%</th>\n",
       "      <td>NaN</td>\n",
       "      <td>NaN</td>\n",
       "      <td>7532.540000</td>\n",
       "      <td>NaN</td>\n",
       "      <td>NaN</td>\n",
       "      <td>30.000000</td>\n",
       "      <td>NaN</td>\n",
       "      <td>1626.480000</td>\n",
       "      <td>NaN</td>\n",
       "      <td>NaN</td>\n",
       "      <td>NaN</td>\n",
       "      <td>NaN</td>\n",
       "    </tr>\n",
       "    <tr>\n",
       "      <th>75%</th>\n",
       "      <td>NaN</td>\n",
       "      <td>NaN</td>\n",
       "      <td>14370.765000</td>\n",
       "      <td>NaN</td>\n",
       "      <td>NaN</td>\n",
       "      <td>40.000000</td>\n",
       "      <td>NaN</td>\n",
       "      <td>2538.680000</td>\n",
       "      <td>NaN</td>\n",
       "      <td>NaN</td>\n",
       "      <td>NaN</td>\n",
       "      <td>NaN</td>\n",
       "    </tr>\n",
       "    <tr>\n",
       "      <th>max</th>\n",
       "      <td>NaN</td>\n",
       "      <td>NaN</td>\n",
       "      <td>267128.520000</td>\n",
       "      <td>NaN</td>\n",
       "      <td>NaN</td>\n",
       "      <td>78.000000</td>\n",
       "      <td>NaN</td>\n",
       "      <td>8835.980000</td>\n",
       "      <td>NaN</td>\n",
       "      <td>NaN</td>\n",
       "      <td>NaN</td>\n",
       "      <td>NaN</td>\n",
       "    </tr>\n",
       "  </tbody>\n",
       "</table>\n",
       "</div>"
      ],
      "text/plain": [
       "        status txn_description        balance        date gender         age  \\\n",
       "count      883             883     883.000000         883    883  883.000000   \n",
       "unique       1               1            NaN          65      2         NaN   \n",
       "top     posted      PAY/SALARY            NaN  2018-10-15      M         NaN   \n",
       "freq       883             883            NaN          18    464         NaN   \n",
       "mean       NaN             NaN   16242.859049         NaN    NaN   32.631937   \n",
       "std        NaN             NaN   30953.342656         NaN    NaN   12.276731   \n",
       "min        NaN             NaN     735.660000         NaN    NaN   18.000000   \n",
       "25%        NaN             NaN    4309.995000         NaN    NaN   22.000000   \n",
       "50%        NaN             NaN    7532.540000         NaN    NaN   30.000000   \n",
       "75%        NaN             NaN   14370.765000         NaN    NaN   40.000000   \n",
       "max        NaN             NaN  267128.520000         NaN    NaN   78.000000   \n",
       "\n",
       "                       extraction       amount     customer_id movement  \\\n",
       "count                         883   883.000000             883      883   \n",
       "unique                        394          NaN             100        1   \n",
       "top     2018-08-20 13:00:00+00:00          NaN  CUS-2500783281   credit   \n",
       "freq                            7          NaN              14      883   \n",
       "mean                          NaN  1898.728029             NaN      NaN   \n",
       "std                           NaN  1150.364621             NaN      NaN   \n",
       "min                           NaN   576.000000             NaN      NaN   \n",
       "25%                           NaN  1013.670000             NaN      NaN   \n",
       "50%                           NaN  1626.480000             NaN      NaN   \n",
       "75%                           NaN  2538.680000             NaN      NaN   \n",
       "max                           NaN  8835.980000             NaN      NaN   \n",
       "\n",
       "           day    month  \n",
       "count      883      883  \n",
       "unique       5        3  \n",
       "top     Monday  October  \n",
       "freq       207      313  \n",
       "mean       NaN      NaN  \n",
       "std        NaN      NaN  \n",
       "min        NaN      NaN  \n",
       "25%        NaN      NaN  \n",
       "50%        NaN      NaN  \n",
       "75%        NaN      NaN  \n",
       "max        NaN      NaN  "
      ]
     },
     "execution_count": 7,
     "metadata": {},
     "output_type": "execute_result"
    }
   ],
   "source": [
    "df.describe(include = 'all')"
   ]
  },
  {
   "cell_type": "code",
   "execution_count": 8,
   "metadata": {},
   "outputs": [],
   "source": [
    "df.drop(['status', 'movement'], axis = 1, inplace = True)"
   ]
  },
  {
   "cell_type": "code",
   "execution_count": 9,
   "metadata": {},
   "outputs": [
    {
     "data": {
      "text/plain": [
       "customer_id\n",
       "CUS-1005756958    12616.11\n",
       "CUS-1117979751    25050.55\n",
       "CUS-1140341822    11499.06\n",
       "CUS-1147642491    22248.07\n",
       "CUS-1196156254    27326.11\n",
       "                    ...   \n",
       "CUS-72755508       8703.84\n",
       "CUS-809013380     13481.91\n",
       "CUS-860700529     10851.72\n",
       "CUS-880898248      8603.88\n",
       "CUS-883482547     27842.22\n",
       "Name: amount, Length: 100, dtype: float64"
      ]
     },
     "execution_count": 9,
     "metadata": {},
     "output_type": "execute_result"
    }
   ],
   "source": [
    "# this is each customer's 3 months salary \n",
    "df.groupby('customer_id')['amount'].sum()"
   ]
  },
  {
   "cell_type": "code",
   "execution_count": 10,
   "metadata": {},
   "outputs": [],
   "source": [
    "# creating new dataframe for the customers\n",
    "\n",
    "df2 = df.drop_duplicates(subset = ['customer_id'])[['customer_id','age','gender']].set_index('customer_id')"
   ]
  },
  {
   "cell_type": "code",
   "execution_count": 11,
   "metadata": {},
   "outputs": [],
   "source": [
    "# customers' average balance in the three months August, September, and October\n",
    "df2['balance'] = (df.groupby('customer_id')['balance'].sum())/3"
   ]
  },
  {
   "cell_type": "code",
   "execution_count": 12,
   "metadata": {},
   "outputs": [
    {
     "data": {
      "text/html": [
       "<div>\n",
       "<style scoped>\n",
       "    .dataframe tbody tr th:only-of-type {\n",
       "        vertical-align: middle;\n",
       "    }\n",
       "\n",
       "    .dataframe tbody tr th {\n",
       "        vertical-align: top;\n",
       "    }\n",
       "\n",
       "    .dataframe thead th {\n",
       "        text-align: right;\n",
       "    }\n",
       "</style>\n",
       "<table border=\"1\" class=\"dataframe\">\n",
       "  <thead>\n",
       "    <tr style=\"text-align: right;\">\n",
       "      <th></th>\n",
       "      <th>age</th>\n",
       "      <th>gender</th>\n",
       "      <th>balance</th>\n",
       "      <th>annual_salary</th>\n",
       "    </tr>\n",
       "    <tr>\n",
       "      <th>customer_id</th>\n",
       "      <th></th>\n",
       "      <th></th>\n",
       "      <th></th>\n",
       "      <th></th>\n",
       "    </tr>\n",
       "  </thead>\n",
       "  <tbody>\n",
       "    <tr>\n",
       "      <th>CUS-1462656821</th>\n",
       "      <td>23</td>\n",
       "      <td>M</td>\n",
       "      <td>37071.796667</td>\n",
       "      <td>109310.60</td>\n",
       "    </tr>\n",
       "    <tr>\n",
       "      <th>CUS-2500783281</th>\n",
       "      <td>23</td>\n",
       "      <td>F</td>\n",
       "      <td>50125.100000</td>\n",
       "      <td>91082.88</td>\n",
       "    </tr>\n",
       "    <tr>\n",
       "      <th>CUS-326006476</th>\n",
       "      <td>22</td>\n",
       "      <td>M</td>\n",
       "      <td>38812.810000</td>\n",
       "      <td>55068.16</td>\n",
       "    </tr>\n",
       "    <tr>\n",
       "      <th>CUS-1433879684</th>\n",
       "      <td>24</td>\n",
       "      <td>M</td>\n",
       "      <td>9047.223333</td>\n",
       "      <td>39426.24</td>\n",
       "    </tr>\n",
       "    <tr>\n",
       "      <th>CUS-4123612273</th>\n",
       "      <td>43</td>\n",
       "      <td>F</td>\n",
       "      <td>24316.623333</td>\n",
       "      <td>59810.24</td>\n",
       "    </tr>\n",
       "    <tr>\n",
       "      <th>...</th>\n",
       "      <td>...</td>\n",
       "      <td>...</td>\n",
       "      <td>...</td>\n",
       "      <td>...</td>\n",
       "    </tr>\n",
       "    <tr>\n",
       "      <th>CUS-1816693151</th>\n",
       "      <td>40</td>\n",
       "      <td>M</td>\n",
       "      <td>98611.533333</td>\n",
       "      <td>141375.68</td>\n",
       "    </tr>\n",
       "    <tr>\n",
       "      <th>CUS-497688347</th>\n",
       "      <td>30</td>\n",
       "      <td>F</td>\n",
       "      <td>4709.860000</td>\n",
       "      <td>39287.20</td>\n",
       "    </tr>\n",
       "    <tr>\n",
       "      <th>CUS-423725039</th>\n",
       "      <td>24</td>\n",
       "      <td>F</td>\n",
       "      <td>6925.586667</td>\n",
       "      <td>44550.72</td>\n",
       "    </tr>\n",
       "    <tr>\n",
       "      <th>CUS-1739931018</th>\n",
       "      <td>27</td>\n",
       "      <td>F</td>\n",
       "      <td>4589.876667</td>\n",
       "      <td>38908.96</td>\n",
       "    </tr>\n",
       "    <tr>\n",
       "      <th>CUS-2178051368</th>\n",
       "      <td>25</td>\n",
       "      <td>M</td>\n",
       "      <td>5621.530000</td>\n",
       "      <td>48857.84</td>\n",
       "    </tr>\n",
       "  </tbody>\n",
       "</table>\n",
       "<p>100 rows × 4 columns</p>\n",
       "</div>"
      ],
      "text/plain": [
       "                age gender       balance  annual_salary\n",
       "customer_id                                            \n",
       "CUS-1462656821   23      M  37071.796667      109310.60\n",
       "CUS-2500783281   23      F  50125.100000       91082.88\n",
       "CUS-326006476    22      M  38812.810000       55068.16\n",
       "CUS-1433879684   24      M   9047.223333       39426.24\n",
       "CUS-4123612273   43      F  24316.623333       59810.24\n",
       "...             ...    ...           ...            ...\n",
       "CUS-1816693151   40      M  98611.533333      141375.68\n",
       "CUS-497688347    30      F   4709.860000       39287.20\n",
       "CUS-423725039    24      F   6925.586667       44550.72\n",
       "CUS-1739931018   27      F   4589.876667       38908.96\n",
       "CUS-2178051368   25      M   5621.530000       48857.84\n",
       "\n",
       "[100 rows x 4 columns]"
      ]
     },
     "execution_count": 12,
     "metadata": {},
     "output_type": "execute_result"
    }
   ],
   "source": [
    "# customer's annual salaries\n",
    "df2['annual_salary'] = (df.groupby('customer_id')['amount'].sum()*4)\n",
    "df2"
   ]
  },
  {
   "cell_type": "code",
   "execution_count": 13,
   "metadata": {},
   "outputs": [
    {
     "data": {
      "image/png": "[encoded data removed]",
      "text/plain": [
       "<Figure size 432x288 with 1 Axes>"
      ]
     },
     "metadata": {
      "needs_background": "light"
     },
     "output_type": "display_data"
    }
   ],
   "source": [
    "fig, ax = plt.subplots()\n",
    "sns.barplot(x= df2.query('gender == \"M\"').index, y=\"annual_salary\", data=df2.query('gender == \"M\"') , palette = 'magma')\n",
    "\n",
    "plt.title('annual salary of MALE customers')\n",
    "labels = [item.get_text() for item in ax.get_xticklabels()]\n",
    "empty_string_labels = ['']*len(labels)\n",
    "ax.set_xticklabels(empty_string_labels);"
   ]
  },
  {
   "cell_type": "code",
   "execution_count": 14,
   "metadata": {},
   "outputs": [
    {
     "data": {
      "image/png": "[encoded data removed]",
      "text/plain": [
       "<Figure size 432x288 with 1 Axes>"
      ]
     },
     "metadata": {
      "needs_background": "light"
     },
     "output_type": "display_data"
    }
   ],
   "source": [
    "fig, ax = plt.subplots()\n",
    "sns.barplot(x= df2.query('gender == \"F\"').index, y=\"annual_salary\", data=df2.query('gender == \"F\"') , palette = 'magma')\n",
    "\n",
    "plt.title('annual salary of FEMALE customers')\n",
    "labels = [item.get_text() for item in ax.get_xticklabels()]\n",
    "empty_string_labels = ['']*len(labels)\n",
    "ax.set_xticklabels(empty_string_labels);"
   ]
  },
  {
   "cell_type": "markdown",
   "metadata": {},
   "source": [
    "it looks like men's salaries are generally higher."
   ]
  },
  {
   "cell_type": "code",
   "execution_count": 15,
   "metadata": {},
   "outputs": [
    {
     "data": {
      "image/png": "[encoded data removed]",
      "text/plain": [
       "<Figure size 360x360 with 1 Axes>"
      ]
     },
     "metadata": {
      "needs_background": "light"
     },
     "output_type": "display_data"
    }
   ],
   "source": [
    "sns.catplot(x=\"gender\", y=\"annual_salary\", kind=\"bar\", data=df2, palette = 'magma')\n",
    "plt.title('average annual salary amount per gender');"
   ]
  },
  {
   "cell_type": "markdown",
   "metadata": {},
   "source": [
    "this plot confirms that gender has an impact on salary"
   ]
  },
  {
   "cell_type": "code",
   "execution_count": 16,
   "metadata": {},
   "outputs": [
    {
     "data": {
      "image/png": "[encoded data removed]",
      "text/plain": [
       "<Figure size 360x360 with 1 Axes>"
      ]
     },
     "metadata": {
      "needs_background": "light"
     },
     "output_type": "display_data"
    }
   ],
   "source": [
    "sns.relplot(x='age' , y='annual_salary',kind=\"line\" , data=df2);"
   ]
  },
  {
   "cell_type": "code",
   "execution_count": 17,
   "metadata": {},
   "outputs": [
    {
     "data": {
      "image/png": "[encoded data removed]",
      "text/plain": [
       "<Figure size 1080x360 with 1 Axes>"
      ]
     },
     "metadata": {
      "needs_background": "light"
     },
     "output_type": "display_data"
    }
   ],
   "source": [
    "plt.figure(figsize=[15, 5])\n",
    "sns.barplot(x= 'age', y=\"annual_salary\", data=df2 , palette = 'magma')\n",
    "plt.title('annual salary of customers by age');"
   ]
  },
  {
   "cell_type": "markdown",
   "metadata": {},
   "source": [
    "## Regression model"
   ]
  },
  {
   "cell_type": "code",
   "execution_count": 23,
   "metadata": {},
   "outputs": [],
   "source": [
    "from sklearn.model_selection import train_test_split\n",
    "from sklearn.linear_model import LinearRegression"
   ]
  },
  {
   "cell_type": "code",
   "execution_count": 27,
   "metadata": {},
   "outputs": [],
   "source": [
    "df2 = pd.get_dummies(df2)"
   ]
  },
  {
   "cell_type": "code",
   "execution_count": 49,
   "metadata": {},
   "outputs": [],
   "source": [
    "X = df2[['age','gender_M', 'balance']]\n",
    "y = df2['annual_salary']\n",
    "\n",
    "X_train, X_test, y_train, y_test = train_test_split(X, y, test_size=0.33, random_state=42)"
   ]
  },
  {
   "cell_type": "code",
   "execution_count": 51,
   "metadata": {},
   "outputs": [],
   "source": [
    "reg = LinearRegression().fit(X_train, y_train)"
   ]
  },
  {
   "cell_type": "code",
   "execution_count": 52,
   "metadata": {},
   "outputs": [],
   "source": [
    "y_pred = reg.predict(X_test)"
   ]
  },
  {
   "cell_type": "code",
   "execution_count": 54,
   "metadata": {},
   "outputs": [
    {
     "data": {
      "text/plain": [
       "2571.7741929836834"
      ]
     },
     "execution_count": 54,
     "metadata": {},
     "output_type": "execute_result"
    }
   ],
   "source": [
    "np.sqrt(np.mean(y_pred-y_test)**2)"
   ]
  },
  {
   "cell_type": "markdown",
   "metadata": {},
   "source": [
    "RMSE metric is evaluated to see what are the prediction error in the model. From the evaluation it can be seen there is large prediction error. Therefore ANZ should not use this model to segment the customers"
   ]
  },
  {
   "cell_type": "code",
   "execution_count": 37,
   "metadata": {},
   "outputs": [],
   "source": [
    "import statsmodels.api as sm;"
   ]
  },
  {
   "cell_type": "code",
   "execution_count": 39,
   "metadata": {},
   "outputs": [
    {
     "data": {
      "text/html": [
       "<table class=\"simpletable\">\n",
       "<caption>OLS Regression Results</caption>\n",
       "<tr>\n",
       "  <th>Dep. Variable:</th>      <td>annual_salary</td>  <th>  R-squared:         </th> <td>   0.064</td>\n",
       "</tr>\n",
       "<tr>\n",
       "  <th>Model:</th>                   <td>OLS</td>       <th>  Adj. R-squared:    </th> <td>   0.034</td>\n",
       "</tr>\n",
       "<tr>\n",
       "  <th>Method:</th>             <td>Least Squares</td>  <th>  F-statistic:       </th> <td>   2.177</td>\n",
       "</tr>\n",
       "<tr>\n",
       "  <th>Date:</th>             <td>Sun, 13 Sep 2020</td> <th>  Prob (F-statistic):</th>  <td>0.0957</td> \n",
       "</tr>\n",
       "<tr>\n",
       "  <th>Time:</th>                 <td>04:33:44</td>     <th>  Log-Likelihood:    </th> <td> -1158.3</td>\n",
       "</tr>\n",
       "<tr>\n",
       "  <th>No. Observations:</th>      <td>   100</td>      <th>  AIC:               </th> <td>   2325.</td>\n",
       "</tr>\n",
       "<tr>\n",
       "  <th>Df Residuals:</th>          <td>    96</td>      <th>  BIC:               </th> <td>   2335.</td>\n",
       "</tr>\n",
       "<tr>\n",
       "  <th>Df Model:</th>              <td>     3</td>      <th>                     </th>     <td> </td>   \n",
       "</tr>\n",
       "<tr>\n",
       "  <th>Covariance Type:</th>      <td>nonrobust</td>    <th>                     </th>     <td> </td>   \n",
       "</tr>\n",
       "</table>\n",
       "<table class=\"simpletable\">\n",
       "<tr>\n",
       "      <td></td>         <th>coef</th>     <th>std err</th>      <th>t</th>      <th>P>|t|</th>  <th>[0.025</th>    <th>0.975]</th>  \n",
       "</tr>\n",
       "<tr>\n",
       "  <th>intercept</th> <td> 6.878e+04</td> <td> 8361.952</td> <td>    8.225</td> <td> 0.000</td> <td> 5.22e+04</td> <td> 8.54e+04</td>\n",
       "</tr>\n",
       "<tr>\n",
       "  <th>age</th>       <td> -249.2407</td> <td>  241.057</td> <td>   -1.034</td> <td> 0.304</td> <td> -727.736</td> <td>  229.255</td>\n",
       "</tr>\n",
       "<tr>\n",
       "  <th>gender_M</th>  <td> 4037.2631</td> <td> 5378.731</td> <td>    0.751</td> <td> 0.455</td> <td>-6639.433</td> <td> 1.47e+04</td>\n",
       "</tr>\n",
       "<tr>\n",
       "  <th>balance</th>   <td>    0.0825</td> <td>    0.036</td> <td>    2.305</td> <td> 0.023</td> <td>    0.011</td> <td>    0.153</td>\n",
       "</tr>\n",
       "</table>\n",
       "<table class=\"simpletable\">\n",
       "<tr>\n",
       "  <th>Omnibus:</th>       <td>11.511</td> <th>  Durbin-Watson:     </th> <td>   1.664</td>\n",
       "</tr>\n",
       "<tr>\n",
       "  <th>Prob(Omnibus):</th> <td> 0.003</td> <th>  Jarque-Bera (JB):  </th> <td>  12.563</td>\n",
       "</tr>\n",
       "<tr>\n",
       "  <th>Skew:</th>          <td> 0.866</td> <th>  Prob(JB):          </th> <td> 0.00187</td>\n",
       "</tr>\n",
       "<tr>\n",
       "  <th>Kurtosis:</th>      <td> 3.109</td> <th>  Cond. No.          </th> <td>3.00e+05</td>\n",
       "</tr>\n",
       "</table><br/><br/>Warnings:<br/>[1] Standard Errors assume that the covariance matrix of the errors is correctly specified.<br/>[2] The condition number is large,  3e+05. This might indicate that there are<br/>strong multicollinearity or other numerical problems."
      ],
      "text/plain": [
       "<class 'statsmodels.iolib.summary.Summary'>\n",
       "\"\"\"\n",
       "                            OLS Regression Results                            \n",
       "==============================================================================\n",
       "Dep. Variable:          annual_salary   R-squared:                       0.064\n",
       "Model:                            OLS   Adj. R-squared:                  0.034\n",
       "Method:                 Least Squares   F-statistic:                     2.177\n",
       "Date:                Sun, 13 Sep 2020   Prob (F-statistic):             0.0957\n",
       "Time:                        04:33:44   Log-Likelihood:                -1158.3\n",
       "No. Observations:                 100   AIC:                             2325.\n",
       "Df Residuals:                      96   BIC:                             2335.\n",
       "Df Model:                           3                                         \n",
       "Covariance Type:            nonrobust                                         \n",
       "==============================================================================\n",
       "                 coef    std err          t      P>|t|      [0.025      0.975]\n",
       "------------------------------------------------------------------------------\n",
       "intercept   6.878e+04   8361.952      8.225      0.000    5.22e+04    8.54e+04\n",
       "age         -249.2407    241.057     -1.034      0.304    -727.736     229.255\n",
       "gender_M    4037.2631   5378.731      0.751      0.455   -6639.433    1.47e+04\n",
       "balance        0.0825      0.036      2.305      0.023       0.011       0.153\n",
       "==============================================================================\n",
       "Omnibus:                       11.511   Durbin-Watson:                   1.664\n",
       "Prob(Omnibus):                  0.003   Jarque-Bera (JB):               12.563\n",
       "Skew:                           0.866   Prob(JB):                      0.00187\n",
       "Kurtosis:                       3.109   Cond. No.                     3.00e+05\n",
       "==============================================================================\n",
       "\n",
       "Warnings:\n",
       "[1] Standard Errors assume that the covariance matrix of the errors is correctly specified.\n",
       "[2] The condition number is large,  3e+05. This might indicate that there are\n",
       "strong multicollinearity or other numerical problems.\n",
       "\"\"\""
      ]
     },
     "execution_count": 39,
     "metadata": {},
     "output_type": "execute_result"
    }
   ],
   "source": [
    "df2['intercept'] = 1\n",
    "X = df2[['intercept','age','gender_M', 'balance']]\n",
    "lm = sm.OLS(y, X)\n",
    "results = lm.fit()\n",
    "results.summary()"
   ]
  }
 ],
 "metadata": {
  "kernelspec": {
   "display_name": "Python 3",
   "language": "python",
   "name": "python3"
  },
  "language_info": {
   "codemirror_mode": {
    "name": "ipython",
    "version": 3
   },
   "file_extension": ".py",
   "mimetype": "text/x-python",
   "name": "python",
   "nbconvert_exporter": "python",
   "pygments_lexer": "ipython3",
   "version": "3.8.5"
  }
 },
 "nbformat": 4,
 "nbformat_minor": 4
}
